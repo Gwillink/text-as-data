{
 "metadata": {
  "name": "1 - Word splitting"
 },
 "nbformat": 3,
 "nbformat_minor": 0,
 "worksheets": [
  {
   "cells": [
    {
     "cell_type": "code",
     "collapsed": false,
     "input": [
      "from __future__ import unicode_literals"
     ],
     "language": "python",
     "metadata": {},
     "outputs": [],
     "prompt_number": 54
    },
    {
     "cell_type": "code",
     "collapsed": false,
     "input": [
      "text = '''\"Word splitting shouldn't be hard,\" you might say. \"Words are things separated by spaces.\"'''"
     ],
     "language": "python",
     "metadata": {},
     "outputs": [],
     "prompt_number": 55
    },
    {
     "cell_type": "code",
     "collapsed": false,
     "input": [
      "for word in text.split(' '):\n",
      "    print word"
     ],
     "language": "python",
     "metadata": {},
     "outputs": [
      {
       "output_type": "stream",
       "stream": "stdout",
       "text": [
        "\"Word\n",
        "splitting\n",
        "shouldn't\n",
        "be\n",
        "hard,\"\n",
        "you\n",
        "might\n",
        "say.\n",
        "\"Words\n",
        "are\n",
        "things\n",
        "separated\n",
        "by\n",
        "spaces.\"\n"
       ]
      }
     ],
     "prompt_number": 56
    },
    {
     "cell_type": "code",
     "collapsed": false,
     "input": [
      "import re\n",
      "for word in re.findall(r'[A-Za-z]+', text):\n",
      "    print word"
     ],
     "language": "python",
     "metadata": {},
     "outputs": [
      {
       "output_type": "stream",
       "stream": "stdout",
       "text": [
        "Word\n",
        "splitting\n",
        "shouldn\n",
        "t\n",
        "be\n",
        "hard\n",
        "you\n",
        "might\n",
        "say\n",
        "Words\n",
        "are\n",
        "things\n",
        "separated\n",
        "by\n",
        "spaces\n"
       ]
      }
     ],
     "prompt_number": 57
    },
    {
     "cell_type": "code",
     "collapsed": false,
     "input": [
      "import nltk"
     ],
     "language": "python",
     "metadata": {},
     "outputs": [],
     "prompt_number": 58
    },
    {
     "cell_type": "code",
     "collapsed": false,
     "input": [
      "for sent in nltk.sent_tokenize(text):\n",
      "    print\n",
      "    for word in nltk.word_tokenize(sent):\n",
      "        print word\n"
     ],
     "language": "python",
     "metadata": {},
     "outputs": []
    },
    {
     "cell_type": "code",
     "collapsed": false,
     "input": [
      "from nltk.corpus import wordnet"
     ],
     "language": "python",
     "metadata": {},
     "outputs": []
    },
    {
     "cell_type": "code",
     "collapsed": false,
     "input": [
      "# Deal with suffixes\n",
      "for sent in nltk.sent_tokenize(text):\n",
      "    for word in nltk.word_tokenize(sent):\n",
      "        word = word.lower()\n",
      "        print wordnet.morphy(word) or word\n"
     ],
     "language": "python",
     "metadata": {},
     "outputs": []
    },
    {
     "cell_type": "code",
     "collapsed": false,
     "input": [
      "from metanl import english"
     ],
     "language": "python",
     "metadata": {},
     "outputs": []
    },
    {
     "cell_type": "code",
     "collapsed": false,
     "input": [
      "# Deal with even more suffixes\n",
      "for word in english.normalize_list(text):\n",
      "    print word"
     ],
     "language": "python",
     "metadata": {},
     "outputs": []
    },
    {
     "cell_type": "code",
     "collapsed": false,
     "input": [],
     "language": "python",
     "metadata": {},
     "outputs": []
    }
   ],
   "metadata": {}
  }
 ]
}